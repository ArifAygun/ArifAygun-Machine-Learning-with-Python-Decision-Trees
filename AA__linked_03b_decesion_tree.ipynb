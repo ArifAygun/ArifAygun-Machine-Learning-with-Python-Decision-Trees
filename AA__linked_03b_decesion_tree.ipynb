{
  "cells": [
    {
      "cell_type": "markdown",
      "metadata": {
        "id": "view-in-github",
        "colab_type": "text"
      },
      "source": [
        "<a href=\"https://colab.research.google.com/github/ArifAygun/Machine-Learning-with-Python-Decision-Trees/blob/main/AA__linked_03b_decesion_tree.ipynb\" target=\"_parent\"><img src=\"https://colab.research.google.com/assets/colab-badge.svg\" alt=\"Open In Colab\"/></a>"
      ]
    },
    {
      "cell_type": "markdown",
      "id": "11963cc7",
      "metadata": {
        "id": "11963cc7"
      },
      "source": [
        "# Working with Regression Trees in Python\n",
        "\n",
        "## Learning Objectives\n",
        "Decision Trees are one of the most popular approaches to supervised machine learning. Decison Trees use an inverted tree-like structure to model the relationship between independent variables and a dependent variable. A tree with a continuous dependent variable is known as a **Regression Tree**. By the end of this tutorial, you will have learned:\n",
        "\n",
        "+ How to import, explore and prepare data\n",
        "+ How to build a Regression Tree model\n",
        "+ How to visualize the structure of a Regression Tree\n",
        "+ How to Prune a Regression Tree "
      ]
    },
    {
      "cell_type": "markdown",
      "id": "2887bb87",
      "metadata": {
        "id": "2887bb87"
      },
      "source": [
        "## 1. Collect the Data"
      ]
    },
    {
      "cell_type": "code",
      "execution_count": 1,
      "id": "046f5901",
      "metadata": {
        "colab": {
          "base_uri": "https://localhost:8080/"
        },
        "id": "046f5901",
        "outputId": "8e2e05aa-6b59-47c4-801d-a59c72652298"
      },
      "outputs": [
        {
          "output_type": "stream",
          "name": "stdout",
          "text": [
            "Mounted at /content/drive\n"
          ]
        }
      ],
      "source": [
        "from google.colab import drive\n",
        "drive.mount('/content/drive')"
      ]
    },
    {
      "cell_type": "code",
      "source": [
        "from numpy import logical_and\n",
        "#import pandas as pd\n",
        "#loan = pd.read_csv(\"loan.csv\")\n",
        "import pandas as pd\n",
        "import os\n",
        "\n",
        "def file_locator(file_name):\n",
        "  main_dir = os.getcwd()\n",
        "\n",
        "  for dir, folder, files in os.walk(main_dir):\n",
        "    for file in files:\n",
        "      if file == file_name:\n",
        "        file_path = os.path.join(dir,file)\n",
        "  return file_path\n",
        "\n",
        "file_path = file_locator('income.csv')\n",
        "income = pd.read_csv(file_path)\n",
        "income.head()"
      ],
      "metadata": {
        "colab": {
          "base_uri": "https://localhost:8080/",
          "height": 206
        },
        "id": "ia9-LFdkJro1",
        "outputId": "acc6d065-6e70-46ca-9481-f9c5be0d42b1"
      },
      "id": "ia9-LFdkJro1",
      "execution_count": 3,
      "outputs": [
        {
          "output_type": "execute_result",
          "data": {
            "text/plain": [
              "   Age  Education  Salary\n",
              "0   25  Bachelors    43.9\n",
              "1   30  Bachelors    54.4\n",
              "2   45  Bachelors    62.5\n",
              "3   55  Bachelors    72.5\n",
              "4   65  Bachelors    74.6"
            ],
            "text/html": [
              "\n",
              "  <div id=\"df-a5002108-4b5a-43d6-b6a9-8972bd82d8d9\">\n",
              "    <div class=\"colab-df-container\">\n",
              "      <div>\n",
              "<style scoped>\n",
              "    .dataframe tbody tr th:only-of-type {\n",
              "        vertical-align: middle;\n",
              "    }\n",
              "\n",
              "    .dataframe tbody tr th {\n",
              "        vertical-align: top;\n",
              "    }\n",
              "\n",
              "    .dataframe thead th {\n",
              "        text-align: right;\n",
              "    }\n",
              "</style>\n",
              "<table border=\"1\" class=\"dataframe\">\n",
              "  <thead>\n",
              "    <tr style=\"text-align: right;\">\n",
              "      <th></th>\n",
              "      <th>Age</th>\n",
              "      <th>Education</th>\n",
              "      <th>Salary</th>\n",
              "    </tr>\n",
              "  </thead>\n",
              "  <tbody>\n",
              "    <tr>\n",
              "      <th>0</th>\n",
              "      <td>25</td>\n",
              "      <td>Bachelors</td>\n",
              "      <td>43.9</td>\n",
              "    </tr>\n",
              "    <tr>\n",
              "      <th>1</th>\n",
              "      <td>30</td>\n",
              "      <td>Bachelors</td>\n",
              "      <td>54.4</td>\n",
              "    </tr>\n",
              "    <tr>\n",
              "      <th>2</th>\n",
              "      <td>45</td>\n",
              "      <td>Bachelors</td>\n",
              "      <td>62.5</td>\n",
              "    </tr>\n",
              "    <tr>\n",
              "      <th>3</th>\n",
              "      <td>55</td>\n",
              "      <td>Bachelors</td>\n",
              "      <td>72.5</td>\n",
              "    </tr>\n",
              "    <tr>\n",
              "      <th>4</th>\n",
              "      <td>65</td>\n",
              "      <td>Bachelors</td>\n",
              "      <td>74.6</td>\n",
              "    </tr>\n",
              "  </tbody>\n",
              "</table>\n",
              "</div>\n",
              "      <button class=\"colab-df-convert\" onclick=\"convertToInteractive('df-a5002108-4b5a-43d6-b6a9-8972bd82d8d9')\"\n",
              "              title=\"Convert this dataframe to an interactive table.\"\n",
              "              style=\"display:none;\">\n",
              "        \n",
              "  <svg xmlns=\"http://www.w3.org/2000/svg\" height=\"24px\"viewBox=\"0 0 24 24\"\n",
              "       width=\"24px\">\n",
              "    <path d=\"M0 0h24v24H0V0z\" fill=\"none\"/>\n",
              "    <path d=\"M18.56 5.44l.94 2.06.94-2.06 2.06-.94-2.06-.94-.94-2.06-.94 2.06-2.06.94zm-11 1L8.5 8.5l.94-2.06 2.06-.94-2.06-.94L8.5 2.5l-.94 2.06-2.06.94zm10 10l.94 2.06.94-2.06 2.06-.94-2.06-.94-.94-2.06-.94 2.06-2.06.94z\"/><path d=\"M17.41 7.96l-1.37-1.37c-.4-.4-.92-.59-1.43-.59-.52 0-1.04.2-1.43.59L10.3 9.45l-7.72 7.72c-.78.78-.78 2.05 0 2.83L4 21.41c.39.39.9.59 1.41.59.51 0 1.02-.2 1.41-.59l7.78-7.78 2.81-2.81c.8-.78.8-2.07 0-2.86zM5.41 20L4 18.59l7.72-7.72 1.47 1.35L5.41 20z\"/>\n",
              "  </svg>\n",
              "      </button>\n",
              "      \n",
              "  <style>\n",
              "    .colab-df-container {\n",
              "      display:flex;\n",
              "      flex-wrap:wrap;\n",
              "      gap: 12px;\n",
              "    }\n",
              "\n",
              "    .colab-df-convert {\n",
              "      background-color: #E8F0FE;\n",
              "      border: none;\n",
              "      border-radius: 50%;\n",
              "      cursor: pointer;\n",
              "      display: none;\n",
              "      fill: #1967D2;\n",
              "      height: 32px;\n",
              "      padding: 0 0 0 0;\n",
              "      width: 32px;\n",
              "    }\n",
              "\n",
              "    .colab-df-convert:hover {\n",
              "      background-color: #E2EBFA;\n",
              "      box-shadow: 0px 1px 2px rgba(60, 64, 67, 0.3), 0px 1px 3px 1px rgba(60, 64, 67, 0.15);\n",
              "      fill: #174EA6;\n",
              "    }\n",
              "\n",
              "    [theme=dark] .colab-df-convert {\n",
              "      background-color: #3B4455;\n",
              "      fill: #D2E3FC;\n",
              "    }\n",
              "\n",
              "    [theme=dark] .colab-df-convert:hover {\n",
              "      background-color: #434B5C;\n",
              "      box-shadow: 0px 1px 3px 1px rgba(0, 0, 0, 0.15);\n",
              "      filter: drop-shadow(0px 1px 2px rgba(0, 0, 0, 0.3));\n",
              "      fill: #FFFFFF;\n",
              "    }\n",
              "  </style>\n",
              "\n",
              "      <script>\n",
              "        const buttonEl =\n",
              "          document.querySelector('#df-a5002108-4b5a-43d6-b6a9-8972bd82d8d9 button.colab-df-convert');\n",
              "        buttonEl.style.display =\n",
              "          google.colab.kernel.accessAllowed ? 'block' : 'none';\n",
              "\n",
              "        async function convertToInteractive(key) {\n",
              "          const element = document.querySelector('#df-a5002108-4b5a-43d6-b6a9-8972bd82d8d9');\n",
              "          const dataTable =\n",
              "            await google.colab.kernel.invokeFunction('convertToInteractive',\n",
              "                                                     [key], {});\n",
              "          if (!dataTable) return;\n",
              "\n",
              "          const docLinkHtml = 'Like what you see? Visit the ' +\n",
              "            '<a target=\"_blank\" href=https://colab.research.google.com/notebooks/data_table.ipynb>data table notebook</a>'\n",
              "            + ' to learn more about interactive tables.';\n",
              "          element.innerHTML = '';\n",
              "          dataTable['output_type'] = 'display_data';\n",
              "          await google.colab.output.renderOutput(dataTable, element);\n",
              "          const docLink = document.createElement('div');\n",
              "          docLink.innerHTML = docLinkHtml;\n",
              "          element.appendChild(docLink);\n",
              "        }\n",
              "      </script>\n",
              "    </div>\n",
              "  </div>\n",
              "  "
            ]
          },
          "metadata": {},
          "execution_count": 3
        }
      ]
    },
    {
      "cell_type": "markdown",
      "id": "e6095cae",
      "metadata": {
        "id": "e6095cae"
      },
      "source": [
        "## 2. Explore the Data"
      ]
    },
    {
      "cell_type": "code",
      "execution_count": 4,
      "id": "67de73e2",
      "metadata": {
        "colab": {
          "base_uri": "https://localhost:8080/"
        },
        "id": "67de73e2",
        "outputId": "5aac92ee-4a46-42eb-beed-80efe654a473"
      },
      "outputs": [
        {
          "output_type": "stream",
          "name": "stdout",
          "text": [
            "<class 'pandas.core.frame.DataFrame'>\n",
            "RangeIndex: 30 entries, 0 to 29\n",
            "Data columns (total 3 columns):\n",
            " #   Column     Non-Null Count  Dtype  \n",
            "---  ------     --------------  -----  \n",
            " 0   Age        30 non-null     int64  \n",
            " 1   Education  30 non-null     object \n",
            " 2   Salary     30 non-null     float64\n",
            "dtypes: float64(1), int64(1), object(1)\n",
            "memory usage: 848.0+ bytes\n"
          ]
        }
      ],
      "source": [
        "income.info()"
      ]
    },
    {
      "cell_type": "code",
      "execution_count": 5,
      "id": "acdf6ca5",
      "metadata": {
        "colab": {
          "base_uri": "https://localhost:8080/",
          "height": 300
        },
        "id": "acdf6ca5",
        "outputId": "4abbbae5-92bf-4cb5-cdee-109acf3282b5"
      },
      "outputs": [
        {
          "output_type": "execute_result",
          "data": {
            "text/plain": [
              "             Age      Salary\n",
              "count  30.000000   30.000000\n",
              "mean   43.366667   64.406667\n",
              "std    14.375466   26.202684\n",
              "min    24.000000   16.800000\n",
              "25%    30.500000   46.350000\n",
              "50%    45.000000   62.100000\n",
              "75%    55.000000   76.800000\n",
              "max    65.000000  118.000000"
            ],
            "text/html": [
              "\n",
              "  <div id=\"df-d89b4af7-b26e-44d2-84b3-4db73ac07498\">\n",
              "    <div class=\"colab-df-container\">\n",
              "      <div>\n",
              "<style scoped>\n",
              "    .dataframe tbody tr th:only-of-type {\n",
              "        vertical-align: middle;\n",
              "    }\n",
              "\n",
              "    .dataframe tbody tr th {\n",
              "        vertical-align: top;\n",
              "    }\n",
              "\n",
              "    .dataframe thead th {\n",
              "        text-align: right;\n",
              "    }\n",
              "</style>\n",
              "<table border=\"1\" class=\"dataframe\">\n",
              "  <thead>\n",
              "    <tr style=\"text-align: right;\">\n",
              "      <th></th>\n",
              "      <th>Age</th>\n",
              "      <th>Salary</th>\n",
              "    </tr>\n",
              "  </thead>\n",
              "  <tbody>\n",
              "    <tr>\n",
              "      <th>count</th>\n",
              "      <td>30.000000</td>\n",
              "      <td>30.000000</td>\n",
              "    </tr>\n",
              "    <tr>\n",
              "      <th>mean</th>\n",
              "      <td>43.366667</td>\n",
              "      <td>64.406667</td>\n",
              "    </tr>\n",
              "    <tr>\n",
              "      <th>std</th>\n",
              "      <td>14.375466</td>\n",
              "      <td>26.202684</td>\n",
              "    </tr>\n",
              "    <tr>\n",
              "      <th>min</th>\n",
              "      <td>24.000000</td>\n",
              "      <td>16.800000</td>\n",
              "    </tr>\n",
              "    <tr>\n",
              "      <th>25%</th>\n",
              "      <td>30.500000</td>\n",
              "      <td>46.350000</td>\n",
              "    </tr>\n",
              "    <tr>\n",
              "      <th>50%</th>\n",
              "      <td>45.000000</td>\n",
              "      <td>62.100000</td>\n",
              "    </tr>\n",
              "    <tr>\n",
              "      <th>75%</th>\n",
              "      <td>55.000000</td>\n",
              "      <td>76.800000</td>\n",
              "    </tr>\n",
              "    <tr>\n",
              "      <th>max</th>\n",
              "      <td>65.000000</td>\n",
              "      <td>118.000000</td>\n",
              "    </tr>\n",
              "  </tbody>\n",
              "</table>\n",
              "</div>\n",
              "      <button class=\"colab-df-convert\" onclick=\"convertToInteractive('df-d89b4af7-b26e-44d2-84b3-4db73ac07498')\"\n",
              "              title=\"Convert this dataframe to an interactive table.\"\n",
              "              style=\"display:none;\">\n",
              "        \n",
              "  <svg xmlns=\"http://www.w3.org/2000/svg\" height=\"24px\"viewBox=\"0 0 24 24\"\n",
              "       width=\"24px\">\n",
              "    <path d=\"M0 0h24v24H0V0z\" fill=\"none\"/>\n",
              "    <path d=\"M18.56 5.44l.94 2.06.94-2.06 2.06-.94-2.06-.94-.94-2.06-.94 2.06-2.06.94zm-11 1L8.5 8.5l.94-2.06 2.06-.94-2.06-.94L8.5 2.5l-.94 2.06-2.06.94zm10 10l.94 2.06.94-2.06 2.06-.94-2.06-.94-.94-2.06-.94 2.06-2.06.94z\"/><path d=\"M17.41 7.96l-1.37-1.37c-.4-.4-.92-.59-1.43-.59-.52 0-1.04.2-1.43.59L10.3 9.45l-7.72 7.72c-.78.78-.78 2.05 0 2.83L4 21.41c.39.39.9.59 1.41.59.51 0 1.02-.2 1.41-.59l7.78-7.78 2.81-2.81c.8-.78.8-2.07 0-2.86zM5.41 20L4 18.59l7.72-7.72 1.47 1.35L5.41 20z\"/>\n",
              "  </svg>\n",
              "      </button>\n",
              "      \n",
              "  <style>\n",
              "    .colab-df-container {\n",
              "      display:flex;\n",
              "      flex-wrap:wrap;\n",
              "      gap: 12px;\n",
              "    }\n",
              "\n",
              "    .colab-df-convert {\n",
              "      background-color: #E8F0FE;\n",
              "      border: none;\n",
              "      border-radius: 50%;\n",
              "      cursor: pointer;\n",
              "      display: none;\n",
              "      fill: #1967D2;\n",
              "      height: 32px;\n",
              "      padding: 0 0 0 0;\n",
              "      width: 32px;\n",
              "    }\n",
              "\n",
              "    .colab-df-convert:hover {\n",
              "      background-color: #E2EBFA;\n",
              "      box-shadow: 0px 1px 2px rgba(60, 64, 67, 0.3), 0px 1px 3px 1px rgba(60, 64, 67, 0.15);\n",
              "      fill: #174EA6;\n",
              "    }\n",
              "\n",
              "    [theme=dark] .colab-df-convert {\n",
              "      background-color: #3B4455;\n",
              "      fill: #D2E3FC;\n",
              "    }\n",
              "\n",
              "    [theme=dark] .colab-df-convert:hover {\n",
              "      background-color: #434B5C;\n",
              "      box-shadow: 0px 1px 3px 1px rgba(0, 0, 0, 0.15);\n",
              "      filter: drop-shadow(0px 1px 2px rgba(0, 0, 0, 0.3));\n",
              "      fill: #FFFFFF;\n",
              "    }\n",
              "  </style>\n",
              "\n",
              "      <script>\n",
              "        const buttonEl =\n",
              "          document.querySelector('#df-d89b4af7-b26e-44d2-84b3-4db73ac07498 button.colab-df-convert');\n",
              "        buttonEl.style.display =\n",
              "          google.colab.kernel.accessAllowed ? 'block' : 'none';\n",
              "\n",
              "        async function convertToInteractive(key) {\n",
              "          const element = document.querySelector('#df-d89b4af7-b26e-44d2-84b3-4db73ac07498');\n",
              "          const dataTable =\n",
              "            await google.colab.kernel.invokeFunction('convertToInteractive',\n",
              "                                                     [key], {});\n",
              "          if (!dataTable) return;\n",
              "\n",
              "          const docLinkHtml = 'Like what you see? Visit the ' +\n",
              "            '<a target=\"_blank\" href=https://colab.research.google.com/notebooks/data_table.ipynb>data table notebook</a>'\n",
              "            + ' to learn more about interactive tables.';\n",
              "          element.innerHTML = '';\n",
              "          dataTable['output_type'] = 'display_data';\n",
              "          await google.colab.output.renderOutput(dataTable, element);\n",
              "          const docLink = document.createElement('div');\n",
              "          docLink.innerHTML = docLinkHtml;\n",
              "          element.appendChild(docLink);\n",
              "        }\n",
              "      </script>\n",
              "    </div>\n",
              "  </div>\n",
              "  "
            ]
          },
          "metadata": {},
          "execution_count": 5
        }
      ],
      "source": [
        "income.describe()"
      ]
    },
    {
      "cell_type": "code",
      "execution_count": null,
      "id": "7239372b",
      "metadata": {
        "id": "7239372b"
      },
      "outputs": [],
      "source": [
        "%matplotlib inline\n",
        "from matplotlib import pyplot as plt\n",
        "import seaborn as sns"
      ]
    },
    {
      "cell_type": "code",
      "execution_count": null,
      "id": "dea4cbed",
      "metadata": {
        "scrolled": true,
        "id": "dea4cbed"
      },
      "outputs": [],
      "source": [
        "ax = sns.boxplot(data = income, x = 'Education', y = 'Salary')"
      ]
    },
    {
      "cell_type": "code",
      "execution_count": null,
      "id": "95bde296",
      "metadata": {
        "scrolled": true,
        "id": "95bde296"
      },
      "outputs": [],
      "source": [
        "ax = sns.boxplot(data = income, x = 'Education', y = 'Age')"
      ]
    },
    {
      "cell_type": "code",
      "execution_count": null,
      "id": "8633144d",
      "metadata": {
        "scrolled": true,
        "id": "8633144d"
      },
      "outputs": [],
      "source": [
        "ax = sns.scatterplot(data = income, \n",
        "                     x = 'Age', \n",
        "                     y = 'Salary', \n",
        "                     hue = 'Education', \n",
        "                     style = 'Education', \n",
        "                     s = 150)\n",
        "ax = plt.legend(bbox_to_anchor = (1.02, 1), loc = 'upper left')"
      ]
    },
    {
      "cell_type": "markdown",
      "id": "d6d214f4",
      "metadata": {
        "id": "d6d214f4"
      },
      "source": [
        "## 3. Prepare the Data"
      ]
    },
    {
      "cell_type": "code",
      "execution_count": null,
      "id": "a570e61b",
      "metadata": {
        "scrolled": false,
        "id": "a570e61b"
      },
      "outputs": [],
      "source": [
        "y"
      ]
    },
    {
      "cell_type": "code",
      "execution_count": null,
      "id": "1fda732e",
      "metadata": {
        "scrolled": false,
        "id": "1fda732e"
      },
      "outputs": [],
      "source": [
        "X"
      ]
    },
    {
      "cell_type": "code",
      "execution_count": null,
      "id": "346cdb9d",
      "metadata": {
        "id": "346cdb9d"
      },
      "outputs": [],
      "source": [
        "from sklearn.model_selection import train_test_split\n",
        "X_train, X_test, y_train, y_test = train_test_split(X, y,\n",
        "                                                    train_size = 0.6,\n",
        "                                                    stratify = X['Education'],\n",
        "                                                    random_state = 1234) "
      ]
    },
    {
      "cell_type": "code",
      "execution_count": null,
      "id": "66162c9a",
      "metadata": {
        "id": "66162c9a"
      },
      "outputs": [],
      "source": [
        "X_train.shape, X_test.shape"
      ]
    },
    {
      "cell_type": "code",
      "execution_count": null,
      "id": "867e9e10",
      "metadata": {
        "id": "867e9e10"
      },
      "outputs": [],
      "source": [
        "X_train.head()"
      ]
    },
    {
      "cell_type": "code",
      "execution_count": null,
      "id": "dd014435",
      "metadata": {
        "scrolled": false,
        "id": "dd014435"
      },
      "outputs": [],
      "source": [
        "X_train = pd.get_dummies(X_train)\n",
        "X_train.head()"
      ]
    },
    {
      "cell_type": "code",
      "execution_count": null,
      "id": "ebd1cb79",
      "metadata": {
        "id": "ebd1cb79"
      },
      "outputs": [],
      "source": [
        "X_test = pd.get_dummies(X_test)\n",
        "X_test.head()"
      ]
    },
    {
      "cell_type": "markdown",
      "id": "7e67d2b0",
      "metadata": {
        "id": "7e67d2b0"
      },
      "source": [
        "## 4. Train and Evaluate the Regression Tree"
      ]
    },
    {
      "cell_type": "code",
      "execution_count": null,
      "id": "27175a5e",
      "metadata": {
        "id": "27175a5e"
      },
      "outputs": [],
      "source": [
        "from sklearn.tree import DecisionTreeRegressor\n",
        "regressor = DecisionTreeRegressor(random_state = 1234)"
      ]
    },
    {
      "cell_type": "code",
      "execution_count": null,
      "id": "eafcb43f",
      "metadata": {
        "id": "eafcb43f"
      },
      "outputs": [],
      "source": [
        "model"
      ]
    },
    {
      "cell_type": "code",
      "execution_count": null,
      "id": "20fa1a33",
      "metadata": {
        "scrolled": false,
        "id": "20fa1a33"
      },
      "outputs": [],
      "source": [
        "model"
      ]
    },
    {
      "cell_type": "code",
      "execution_count": null,
      "id": "5c0fde02",
      "metadata": {
        "id": "5c0fde02"
      },
      "outputs": [],
      "source": [
        "y_test_pred = model.predict(X_test)"
      ]
    },
    {
      "cell_type": "code",
      "execution_count": null,
      "id": "8b85e7c9",
      "metadata": {
        "id": "8b85e7c9"
      },
      "outputs": [],
      "source": [
        "from sklearn.metrics import mean_absolute_error\n",
        "mean_absolute_error(y_test, y_test_pred)"
      ]
    },
    {
      "cell_type": "markdown",
      "id": "427b2a5e",
      "metadata": {
        "id": "427b2a5e"
      },
      "source": [
        "## 5. Visualize the Regression Tree"
      ]
    },
    {
      "cell_type": "code",
      "execution_count": null,
      "id": "964ecd4e",
      "metadata": {
        "id": "964ecd4e"
      },
      "outputs": [],
      "source": [
        "from sklearn import tree\n",
        "plt.figure(figsize = (15,15))\n",
        "tree.plot_tree();"
      ]
    },
    {
      "cell_type": "code",
      "execution_count": null,
      "id": "f579ab32",
      "metadata": {
        "id": "f579ab32"
      },
      "outputs": [],
      "source": [
        "plt.figure(figsize = (15,15))\n",
        "tree.plot_tree();"
      ]
    },
    {
      "cell_type": "code",
      "execution_count": null,
      "id": "af1ec155",
      "metadata": {
        "id": "af1ec155"
      },
      "outputs": [],
      "source": [
        "importance\n",
        "importance"
      ]
    },
    {
      "cell_type": "code",
      "execution_count": null,
      "id": "dd408a5a",
      "metadata": {
        "id": "dd408a5a"
      },
      "outputs": [],
      "source": [
        "feature_importance = pd.Series(importance, index = X_train.columns)\n",
        "feature_importance.sort_values().plot(kind = 'bar')\n",
        "plt.ylabel('Importance');"
      ]
    },
    {
      "cell_type": "markdown",
      "id": "e01f8ee5",
      "metadata": {
        "id": "e01f8ee5"
      },
      "source": [
        "## 6. Prune the Regression Tree"
      ]
    },
    {
      "cell_type": "code",
      "execution_count": null,
      "id": "60d416d8",
      "metadata": {
        "id": "60d416d8"
      },
      "outputs": [],
      "source": [
        "model"
      ]
    },
    {
      "cell_type": "code",
      "execution_count": null,
      "id": "be92d4b9",
      "metadata": {
        "id": "be92d4b9"
      },
      "outputs": [],
      "source": [
        "model"
      ]
    },
    {
      "cell_type": "markdown",
      "id": "1f072e32",
      "metadata": {
        "id": "1f072e32"
      },
      "source": [
        "Let's get the list of effective alphas for the training data."
      ]
    },
    {
      "cell_type": "code",
      "execution_count": null,
      "id": "f2869785",
      "metadata": {
        "id": "f2869785"
      },
      "outputs": [],
      "source": [
        "path = regressor.cost_complexity_pruning_path(X_train, y_train)\n",
        "ccp_alphas\n",
        "list(ccp_alphas)"
      ]
    },
    {
      "cell_type": "markdown",
      "id": "6595dad1",
      "metadata": {
        "id": "6595dad1"
      },
      "source": [
        "We remove the maximum effective alpha because it is the trivial tree with just one node."
      ]
    },
    {
      "cell_type": "code",
      "execution_count": null,
      "id": "d3a7b386",
      "metadata": {
        "id": "d3a7b386"
      },
      "outputs": [],
      "source": [
        "ccp_alphas\n",
        "list(ccp_alphas)"
      ]
    },
    {
      "cell_type": "markdown",
      "id": "4fd03c6f",
      "metadata": {
        "id": "4fd03c6f"
      },
      "source": [
        "Next, we train several trees using the different values for alpha."
      ]
    },
    {
      "cell_type": "code",
      "execution_count": null,
      "id": "0acf0ae7",
      "metadata": {
        "id": "0acf0ae7"
      },
      "outputs": [],
      "source": [
        "train_scores, test_scores = [], []\n",
        "for alpha in ccp_alphas:\n",
        "    regressor_ = DecisionTreeRegressor(random_state = 1234, ccp_alpha = alpha)\n",
        "    model_ = regressor_.fit(X_train, y_train)\n",
        "    train_scores.append(model_.score(X_train, y_train))\n",
        "    test_scores.append(model_.score(X_test, y_test))"
      ]
    },
    {
      "cell_type": "code",
      "execution_count": null,
      "id": "cb9ff58d",
      "metadata": {
        "scrolled": false,
        "id": "cb9ff58d"
      },
      "outputs": [],
      "source": [
        "plt.plot(ccp_alphas, \n",
        "         train_scores, \n",
        "         marker = \"o\", \n",
        "         label = 'train_score', \n",
        "         drawstyle = \"steps-post\")\n",
        "plt.plot(ccp_alphas, \n",
        "         test_scores, \n",
        "         marker = \"o\", \n",
        "         label = 'test_score', \n",
        "         drawstyle = \"steps-post\")\n",
        "plt.legend()\n",
        "plt.title('R-squared by alpha');"
      ]
    },
    {
      "cell_type": "code",
      "execution_count": null,
      "id": "e1701fb5",
      "metadata": {
        "scrolled": false,
        "id": "e1701fb5"
      },
      "outputs": [],
      "source": [
        "test_scores"
      ]
    },
    {
      "cell_type": "code",
      "execution_count": null,
      "id": "8d9a9d5d",
      "metadata": {
        "id": "8d9a9d5d"
      },
      "outputs": [],
      "source": [
        "ix = test_scores.index(max(test_scores))\n",
        "best_alpha\n",
        "best_alpha"
      ]
    },
    {
      "cell_type": "code",
      "execution_count": null,
      "id": "f9287b3e",
      "metadata": {
        "id": "f9287b3e"
      },
      "outputs": [],
      "source": [
        "regressor_ = DecisionTreeRegressor(random_state = 1234, ccp_alpha = best_alpha)\n",
        "model_ = regressor_.fit(X_train, y_train)"
      ]
    },
    {
      "cell_type": "code",
      "execution_count": null,
      "id": "38dbea46",
      "metadata": {
        "id": "38dbea46"
      },
      "outputs": [],
      "source": [
        "model_.score(X_train, y_train)"
      ]
    },
    {
      "cell_type": "code",
      "execution_count": null,
      "id": "287cc8cf",
      "metadata": {
        "id": "287cc8cf"
      },
      "outputs": [],
      "source": [
        "model_.score(X_test, y_test)"
      ]
    },
    {
      "cell_type": "code",
      "execution_count": null,
      "id": "a872044a",
      "metadata": {
        "id": "a872044a"
      },
      "outputs": [],
      "source": [
        "plt.figure(figsize = (15,15))\n",
        "tree.plot_tree(model_, \n",
        "                   feature_names = list(X_train.columns),\n",
        "                   filled = True);"
      ]
    }
  ],
  "metadata": {
    "kernelspec": {
      "display_name": "Python 3 (ipykernel)",
      "language": "python",
      "name": "python3"
    },
    "language_info": {
      "codemirror_mode": {
        "name": "ipython",
        "version": 3
      },
      "file_extension": ".py",
      "mimetype": "text/x-python",
      "name": "python",
      "nbconvert_exporter": "python",
      "pygments_lexer": "ipython3",
      "version": "3.9.7"
    },
    "colab": {
      "provenance": [],
      "include_colab_link": true
    }
  },
  "nbformat": 4,
  "nbformat_minor": 5
}